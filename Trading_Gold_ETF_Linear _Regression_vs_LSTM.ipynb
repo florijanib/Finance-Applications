{
  "nbformat": 4,
  "nbformat_minor": 0,
  "metadata": {
    "kernelspec": {
      "name": "python3",
      "display_name": "Python 3.6",
      "language": "python"
    },
    "language_info": {
      "name": "python",
      "version": "3.6.9",
      "mimetype": "text/x-python",
      "codemirror_mode": {
        "name": "ipython",
        "version": 3
      },
      "pygments_lexer": "ipython3",
      "nbconvert_exporter": "python",
      "file_extension": ".py"
    },
    "colab": {
      "name": "C4_W1_Gold_Price_Prediction.data_exp.ipynb",
      "provenance": [],
      "collapsed_sections": []
    }
  },
  "cells": [
    {
      "cell_type": "markdown",
      "metadata": {
        "collapsed": true,
        "id": "O1QyKPEOyHHG",
        "colab_type": "text"
      },
      "source": [
        "\n",
        "## Trading Gold ETF with predictions with Linear Regression vs. LSTM\n",
        "\n",
        "*Author: Florian Bozhdaraj*\n",
        "\n",
        "We will create a linear regression and LSTM Model that take information from the past Gold ETF (GLD) prices and return a prediction of the Gold ETF price the next day. We will compare both methods to find out which fits better for this use case.\n",
        "\n",
        "Note that, based on Brownian Motion (we will not cover that here), the future variations of stock price are independent of the past. So, it is impossible to predict the exact stock price, but possible to predict and capture the upward and downward trends.\n",
        "\n",
        "### Initial Data Exploration"
      ]
    },
    {
      "cell_type": "markdown",
      "metadata": {
        "id": "pbOD2yVeyHHH",
        "colab_type": "text"
      },
      "source": [
        "Import and install relevant packages"
      ]
    },
    {
      "cell_type": "code",
      "metadata": {
        "id": "pE9GkRR-yHHH",
        "colab_type": "code",
        "colab": {
          "base_uri": "https://localhost:8080/",
          "height": 131
        },
        "outputId": "775fbed3-c709-4320-9e39-a2533c346802"
      },
      "source": [
        "git remote add origin https://github.com/florijanib/Finance-Applications.git\n",
        "git push -u origin master\n",
        "\n",
        "# yahoo finance is used to fetch data\n",
        "! pip install yfinance\n",
        "import yfinance as yf\n",
        "\n",
        "\n",
        "# pandas and numpy are used for data manipulation\n",
        "import pandas as pd\n",
        "import numpy as np\n",
        "\n",
        "# matplotlib and seaborn are used for plotting graphs\n",
        "import matplotlib.pyplot as plt\n",
        "import seaborn as sns\n",
        "\n",
        "%matplotlib inline"
      ],
      "execution_count": 110,
      "outputs": [
        {
          "output_type": "error",
          "ename": "SyntaxError",
          "evalue": "ignored",
          "traceback": [
            "\u001b[0;36m  File \u001b[0;32m\"<ipython-input-110-be17d7d58f83>\"\u001b[0;36m, line \u001b[0;32m1\u001b[0m\n\u001b[0;31m    git remote add origin https://github.com/florijanib/Finance-Applications.git\u001b[0m\n\u001b[0m             ^\u001b[0m\n\u001b[0;31mSyntaxError\u001b[0m\u001b[0;31m:\u001b[0m invalid syntax\n"
          ]
        }
      ]
    },
    {
      "cell_type": "markdown",
      "metadata": {
        "id": "Mle4_0jFyHHK",
        "colab_type": "text"
      },
      "source": [
        "Then, we read the past 12 years of daily Gold ETF price data and store it in Df."
      ]
    },
    {
      "cell_type": "code",
      "metadata": {
        "id": "dfiwcU8OyHHK",
        "colab_type": "code",
        "colab": {
          "base_uri": "https://localhost:8080/",
          "height": 381
        },
        "outputId": "06f13e68-3458-44e7-9c5c-d071a6852523"
      },
      "source": [
        "# Read data from yahoo\n",
        "Df = yf.download('GLD', '2018-10-04', '2020-05-07', auto_adjust=True)\n",
        "\n",
        "print(Df.head(5))\n",
        "print(Df.info())"
      ],
      "execution_count": 41,
      "outputs": [
        {
          "output_type": "stream",
          "text": [
            "\r[*********************100%***********************]  1 of 1 completed\n",
            "                  Open        High         Low       Close    Volume\n",
            "Date                                                                \n",
            "2018-10-04  113.830002  114.190002  113.260002  113.480003   6616200\n",
            "2018-10-05  113.809998  114.099998  113.570000  113.800003   7994400\n",
            "2018-10-08  112.250000  112.589996  111.900002  112.540001  12111600\n",
            "2018-10-09  112.370003  112.669998  111.970001  112.599998   8352300\n",
            "2018-10-10  112.470001  112.959999  112.250000  112.879997  10571300\n",
            "<class 'pandas.core.frame.DataFrame'>\n",
            "DatetimeIndex: 399 entries, 2018-10-04 to 2020-05-06\n",
            "Data columns (total 5 columns):\n",
            " #   Column  Non-Null Count  Dtype  \n",
            "---  ------  --------------  -----  \n",
            " 0   Open    399 non-null    float64\n",
            " 1   High    399 non-null    float64\n",
            " 2   Low     399 non-null    float64\n",
            " 3   Close   399 non-null    float64\n",
            " 4   Volume  399 non-null    int64  \n",
            "dtypes: float64(4), int64(1)\n",
            "memory usage: 18.7 KB\n",
            "None\n"
          ],
          "name": "stdout"
        }
      ]
    },
    {
      "cell_type": "markdown",
      "metadata": {
        "id": "4-hUZ5lTyHHM",
        "colab_type": "text"
      },
      "source": [
        "Our data set includes 5 rows that represent the performance of the gold price over the past 12 years. The prices are float32 types because they represent the ticker and this is shown up to six digits after the decimal point.\n",
        "\n",
        "Open: Open prices representes the value of the gold price when the market opens. \\\n",
        "High: Represents the highest price of that day.\\\n",
        "High: Represents the highest price of that day.\\\n",
        "Close: Represents the highest price of that day.\n",
        "\n",
        "The volume row represents the total volume of the stock index traded on that day and must therefore be an integer from which the integer type is derived.\n",
        "\n",
        "The data set used for this comprises 3160 columns and 5 rows (as mentioned above), which results in a memory usage of 148.3 KB and is not particularly large.\n",
        "We only need the close prices for our later application and remove the columns which are not relevant. Then, we plot the Gold ETF close price."
      ]
    },
    {
      "cell_type": "code",
      "metadata": {
        "id": "uh3SFUcfyHHN",
        "colab_type": "code",
        "colab": {
          "base_uri": "https://localhost:8080/",
          "height": 440
        },
        "outputId": "d7e68e26-e0a1-4f08-97ab-26095ea57b3d"
      },
      "source": [
        "# Only keep close prices columns\n",
        "Df = Df[['Close']]\n",
        "# Drop rows with missing values\n",
        "Df = Df.dropna()\n",
        "\n",
        "# Plot the closing price of GLD\n",
        "Df.Close.plot(figsize=(10, 7),color='b')\n",
        "plt.ylabel(\"Gold ETF Prices\")\n",
        "plt.title(\"Gold ETF Price Series\")\n",
        "plt.show()"
      ],
      "execution_count": 42,
      "outputs": [
        {
          "output_type": "display_data",
          "data": {
            "image/png": "[encoded data removed]",
            "text/plain": [
              "<Figure size 720x504 with 1 Axes>"
            ]
          },
          "metadata": {
            "tags": [],
            "needs_background": "light"
          }
        }
      ]
    },
    {
      "cell_type": "code",
      "metadata": {
        "id": "oSq6zxC9yHHP",
        "colab_type": "code",
        "colab": {
          "base_uri": "https://localhost:8080/",
          "height": 283
        },
        "outputId": "5b32a7da-a429-4944-b3d2-bf69ee2590dd"
      },
      "source": [
        "sns.distplot(Df)"
      ],
      "execution_count": 43,
      "outputs": [
        {
          "output_type": "execute_result",
          "data": {
            "text/plain": [
              "<matplotlib.axes._subplots.AxesSubplot at 0x7f461febfa20>"
            ]
          },
          "metadata": {
            "tags": []
          },
          "execution_count": 43
        },
        {
          "output_type": "display_data",
          "data": {
            "image/png": "[encoded data removed]",
            "text/plain": [
              "<Figure size 432x288 with 1 Axes>"
            ]
          },
          "metadata": {
            "tags": [],
            "needs_background": "light"
          }
        }
      ]
    },
    {
      "cell_type": "code",
      "metadata": {
        "id": "9ommlaPAyHHS",
        "colab_type": "code",
        "colab": {
          "base_uri": "https://localhost:8080/",
          "height": 52
        },
        "outputId": "939c761d-d466-42eb-a23f-b05d74d5eb5c"
      },
      "source": [
        "Df.mean()"
      ],
      "execution_count": 44,
      "outputs": [
        {
          "output_type": "execute_result",
          "data": {
            "text/plain": [
              "Close    133.657042\n",
              "dtype: float64"
            ]
          },
          "metadata": {
            "tags": []
          },
          "execution_count": 44
        }
      ]
    },
    {
      "cell_type": "code",
      "metadata": {
        "id": "LYjaOEbLyHHU",
        "colab_type": "code",
        "colab": {
          "base_uri": "https://localhost:8080/",
          "height": 52
        },
        "outputId": "1e7d96be-0407-42e4-a6db-244938e05748"
      },
      "source": [
        "Df.std()"
      ],
      "execution_count": 45,
      "outputs": [
        {
          "output_type": "execute_result",
          "data": {
            "text/plain": [
              "Close    13.254773\n",
              "dtype: float64"
            ]
          },
          "metadata": {
            "tags": []
          },
          "execution_count": 45
        }
      ]
    },
    {
      "cell_type": "markdown",
      "metadata": {
        "id": "nWc1nyDAyHHW",
        "colab_type": "text"
      },
      "source": [
        "We have an average of 133.7, which is not really meaningful given this high fluctuation. The standard deviation is 13. With this distribution, the values are relatively difficult to estimate because we have two shifted normal distributions due the shift in the financial timeseries. We remedy this situation by making the time series (somewhat) stationary. But more on that in the ETL-process."
      ]
    },
    {
      "cell_type": "code",
      "metadata": {
        "id": "JL-kdUI9yHHW",
        "colab_type": "code",
        "colab": {
          "base_uri": "https://localhost:8080/",
          "height": 35
        },
        "outputId": "9bf061e0-62e4-490e-b005-dfacc5c0b947"
      },
      "source": [
        "Df.shape"
      ],
      "execution_count": 46,
      "outputs": [
        {
          "output_type": "execute_result",
          "data": {
            "text/plain": [
              "(399, 1)"
            ]
          },
          "metadata": {
            "tags": []
          },
          "execution_count": 46
        }
      ]
    },
    {
      "cell_type": "code",
      "metadata": {
        "id": "2c7SdDYnyHHY",
        "colab_type": "code",
        "colab": {}
      },
      "source": [
        "#Df.to_csv(r'C:\\Users\\fbozh\\OneDrive - ZHAW\\Specialization Advanced Data Science IBM\\Applied Data Science Capstone\\Gold_ETF_close_price_12_Y.csv')"
      ],
      "execution_count": 47,
      "outputs": []
    },
    {
      "cell_type": "markdown",
      "metadata": {
        "id": "-oyIi0fgyaFv",
        "colab_type": "text"
      },
      "source": [
        "### Extract Transform Load"
      ]
    },
    {
      "cell_type": "code",
      "metadata": {
        "id": "YlYIZPguyZCA",
        "colab_type": "code",
        "colab": {}
      },
      "source": [
        ""
      ],
      "execution_count": 47,
      "outputs": []
    },
    {
      "cell_type": "markdown",
      "metadata": {
        "id": "f3GRwZBrygrg",
        "colab_type": "text"
      },
      "source": [
        "#### Stationarity\n",
        "We assume throughout that the data-process is stationary. In practice ones requires\n",
        "weakstationarity, that is\n",
        "\n",
        "$E[x_{t-1}] = 0$ \\\n",
        "$Var[x_{t-1}] = sigma^2$ \\\n",
        "$Cov[x_{t-1}; x_{t-m}] = R(m)$ does not depend on t.\n",
        "\n",
        "\n",
        "\n",
        "Long episodes of positive growth moving average: non-stationary can be observed, followed by shorter systemic downward movements dot-com crisis, major recession, etc. Typically, trends can be reduced or eliminated by using differences. This gives the relative growth. Large seasonal Fluctuations in the original data can be mitigated by using log-transformed ones.\n",
        "Since we have only positive data, one can form differences in the log returns to make the time series sationary."
      ]
    },
    {
      "cell_type": "code",
      "metadata": {
        "id": "sIvUbnecyrgy",
        "colab_type": "code",
        "colab": {
          "base_uri": "https://localhost:8080/",
          "height": 710
        },
        "outputId": "b6b7b1f1-bd6f-421a-f433-a7223602c466"
      },
      "source": [
        "Df['Close'] = (np.log(Df['Close']/Df['Close'].shift(1)))\n",
        "Df.head()"
      ],
      "execution_count": 63,
      "outputs": [
        {
          "output_type": "error",
          "ename": "KeyError",
          "evalue": "ignored",
          "traceback": [
            "\u001b[0;31m---------------------------------------------------------------------------\u001b[0m",
            "\u001b[0;31mKeyError\u001b[0m                                  Traceback (most recent call last)",
            "\u001b[0;32m/usr/local/lib/python3.6/dist-packages/pandas/core/indexes/base.py\u001b[0m in \u001b[0;36mget_loc\u001b[0;34m(self, key, method, tolerance)\u001b[0m\n\u001b[1;32m   2645\u001b[0m             \u001b[0;32mtry\u001b[0m\u001b[0;34m:\u001b[0m\u001b[0;34m\u001b[0m\u001b[0;34m\u001b[0m\u001b[0m\n\u001b[0;32m-> 2646\u001b[0;31m                 \u001b[0;32mreturn\u001b[0m \u001b[0mself\u001b[0m\u001b[0;34m.\u001b[0m\u001b[0m_engine\u001b[0m\u001b[0;34m.\u001b[0m\u001b[0mget_loc\u001b[0m\u001b[0;34m(\u001b[0m\u001b[0mkey\u001b[0m\u001b[0;34m)\u001b[0m\u001b[0;34m\u001b[0m\u001b[0;34m\u001b[0m\u001b[0m\n\u001b[0m\u001b[1;32m   2647\u001b[0m             \u001b[0;32mexcept\u001b[0m \u001b[0mKeyError\u001b[0m\u001b[0;34m:\u001b[0m\u001b[0;34m\u001b[0m\u001b[0;34m\u001b[0m\u001b[0m\n",
            "\u001b[0;32mpandas/_libs/index.pyx\u001b[0m in \u001b[0;36mpandas._libs.index.IndexEngine.get_loc\u001b[0;34m()\u001b[0m\n",
            "\u001b[0;32mpandas/_libs/index.pyx\u001b[0m in \u001b[0;36mpandas._libs.index.IndexEngine.get_loc\u001b[0;34m()\u001b[0m\n",
            "\u001b[0;32mpandas/_libs/hashtable_class_helper.pxi\u001b[0m in \u001b[0;36mpandas._libs.hashtable.PyObjectHashTable.get_item\u001b[0;34m()\u001b[0m\n",
            "\u001b[0;32mpandas/_libs/hashtable_class_helper.pxi\u001b[0m in \u001b[0;36mpandas._libs.hashtable.PyObjectHashTable.get_item\u001b[0;34m()\u001b[0m\n",
            "\u001b[0;31mKeyError\u001b[0m: 'Close'",
            "\nDuring handling of the above exception, another exception occurred:\n",
            "\u001b[0;31mKeyError\u001b[0m                                  Traceback (most recent call last)",
            "\u001b[0;32m<ipython-input-63-06a064c6570e>\u001b[0m in \u001b[0;36m<module>\u001b[0;34m()\u001b[0m\n\u001b[0;32m----> 1\u001b[0;31m \u001b[0mDf\u001b[0m\u001b[0;34m[\u001b[0m\u001b[0;34m'Close'\u001b[0m\u001b[0;34m]\u001b[0m \u001b[0;34m=\u001b[0m \u001b[0;34m(\u001b[0m\u001b[0mnp\u001b[0m\u001b[0;34m.\u001b[0m\u001b[0mlog\u001b[0m\u001b[0;34m(\u001b[0m\u001b[0mDf\u001b[0m\u001b[0;34m[\u001b[0m\u001b[0;34m'Close'\u001b[0m\u001b[0;34m]\u001b[0m\u001b[0;34m/\u001b[0m\u001b[0mDf\u001b[0m\u001b[0;34m[\u001b[0m\u001b[0;34m'Close'\u001b[0m\u001b[0;34m]\u001b[0m\u001b[0;34m.\u001b[0m\u001b[0mshift\u001b[0m\u001b[0;34m(\u001b[0m\u001b[0;36m1\u001b[0m\u001b[0;34m)\u001b[0m\u001b[0;34m)\u001b[0m\u001b[0;34m)\u001b[0m\u001b[0;34m\u001b[0m\u001b[0;34m\u001b[0m\u001b[0m\n\u001b[0m\u001b[1;32m      2\u001b[0m \u001b[0mDf\u001b[0m\u001b[0;34m.\u001b[0m\u001b[0mhead\u001b[0m\u001b[0;34m(\u001b[0m\u001b[0;34m)\u001b[0m\u001b[0;34m\u001b[0m\u001b[0;34m\u001b[0m\u001b[0m\n",
            "\u001b[0;32m/usr/local/lib/python3.6/dist-packages/pandas/core/frame.py\u001b[0m in \u001b[0;36m__getitem__\u001b[0;34m(self, key)\u001b[0m\n\u001b[1;32m   2798\u001b[0m             \u001b[0;32mif\u001b[0m \u001b[0mself\u001b[0m\u001b[0;34m.\u001b[0m\u001b[0mcolumns\u001b[0m\u001b[0;34m.\u001b[0m\u001b[0mnlevels\u001b[0m \u001b[0;34m>\u001b[0m \u001b[0;36m1\u001b[0m\u001b[0;34m:\u001b[0m\u001b[0;34m\u001b[0m\u001b[0;34m\u001b[0m\u001b[0m\n\u001b[1;32m   2799\u001b[0m                 \u001b[0;32mreturn\u001b[0m \u001b[0mself\u001b[0m\u001b[0;34m.\u001b[0m\u001b[0m_getitem_multilevel\u001b[0m\u001b[0;34m(\u001b[0m\u001b[0mkey\u001b[0m\u001b[0;34m)\u001b[0m\u001b[0;34m\u001b[0m\u001b[0;34m\u001b[0m\u001b[0m\n\u001b[0;32m-> 2800\u001b[0;31m             \u001b[0mindexer\u001b[0m \u001b[0;34m=\u001b[0m \u001b[0mself\u001b[0m\u001b[0;34m.\u001b[0m\u001b[0mcolumns\u001b[0m\u001b[0;34m.\u001b[0m\u001b[0mget_loc\u001b[0m\u001b[0;34m(\u001b[0m\u001b[0mkey\u001b[0m\u001b[0;34m)\u001b[0m\u001b[0;34m\u001b[0m\u001b[0;34m\u001b[0m\u001b[0m\n\u001b[0m\u001b[1;32m   2801\u001b[0m             \u001b[0;32mif\u001b[0m \u001b[0mis_integer\u001b[0m\u001b[0;34m(\u001b[0m\u001b[0mindexer\u001b[0m\u001b[0;34m)\u001b[0m\u001b[0;34m:\u001b[0m\u001b[0;34m\u001b[0m\u001b[0;34m\u001b[0m\u001b[0m\n\u001b[1;32m   2802\u001b[0m                 \u001b[0mindexer\u001b[0m \u001b[0;34m=\u001b[0m \u001b[0;34m[\u001b[0m\u001b[0mindexer\u001b[0m\u001b[0;34m]\u001b[0m\u001b[0;34m\u001b[0m\u001b[0;34m\u001b[0m\u001b[0m\n",
            "\u001b[0;32m/usr/local/lib/python3.6/dist-packages/pandas/core/indexes/base.py\u001b[0m in \u001b[0;36mget_loc\u001b[0;34m(self, key, method, tolerance)\u001b[0m\n\u001b[1;32m   2646\u001b[0m                 \u001b[0;32mreturn\u001b[0m \u001b[0mself\u001b[0m\u001b[0;34m.\u001b[0m\u001b[0m_engine\u001b[0m\u001b[0;34m.\u001b[0m\u001b[0mget_loc\u001b[0m\u001b[0;34m(\u001b[0m\u001b[0mkey\u001b[0m\u001b[0;34m)\u001b[0m\u001b[0;34m\u001b[0m\u001b[0;34m\u001b[0m\u001b[0m\n\u001b[1;32m   2647\u001b[0m             \u001b[0;32mexcept\u001b[0m \u001b[0mKeyError\u001b[0m\u001b[0;34m:\u001b[0m\u001b[0;34m\u001b[0m\u001b[0;34m\u001b[0m\u001b[0m\n\u001b[0;32m-> 2648\u001b[0;31m                 \u001b[0;32mreturn\u001b[0m \u001b[0mself\u001b[0m\u001b[0;34m.\u001b[0m\u001b[0m_engine\u001b[0m\u001b[0;34m.\u001b[0m\u001b[0mget_loc\u001b[0m\u001b[0;34m(\u001b[0m\u001b[0mself\u001b[0m\u001b[0;34m.\u001b[0m\u001b[0m_maybe_cast_indexer\u001b[0m\u001b[0;34m(\u001b[0m\u001b[0mkey\u001b[0m\u001b[0;34m)\u001b[0m\u001b[0;34m)\u001b[0m\u001b[0;34m\u001b[0m\u001b[0;34m\u001b[0m\u001b[0m\n\u001b[0m\u001b[1;32m   2649\u001b[0m         \u001b[0mindexer\u001b[0m \u001b[0;34m=\u001b[0m \u001b[0mself\u001b[0m\u001b[0;34m.\u001b[0m\u001b[0mget_indexer\u001b[0m\u001b[0;34m(\u001b[0m\u001b[0;34m[\u001b[0m\u001b[0mkey\u001b[0m\u001b[0;34m]\u001b[0m\u001b[0;34m,\u001b[0m \u001b[0mmethod\u001b[0m\u001b[0;34m=\u001b[0m\u001b[0mmethod\u001b[0m\u001b[0;34m,\u001b[0m \u001b[0mtolerance\u001b[0m\u001b[0;34m=\u001b[0m\u001b[0mtolerance\u001b[0m\u001b[0;34m)\u001b[0m\u001b[0;34m\u001b[0m\u001b[0;34m\u001b[0m\u001b[0m\n\u001b[1;32m   2650\u001b[0m         \u001b[0;32mif\u001b[0m \u001b[0mindexer\u001b[0m\u001b[0;34m.\u001b[0m\u001b[0mndim\u001b[0m \u001b[0;34m>\u001b[0m \u001b[0;36m1\u001b[0m \u001b[0;32mor\u001b[0m \u001b[0mindexer\u001b[0m\u001b[0;34m.\u001b[0m\u001b[0msize\u001b[0m \u001b[0;34m>\u001b[0m \u001b[0;36m1\u001b[0m\u001b[0;34m:\u001b[0m\u001b[0;34m\u001b[0m\u001b[0;34m\u001b[0m\u001b[0m\n",
            "\u001b[0;32mpandas/_libs/index.pyx\u001b[0m in \u001b[0;36mpandas._libs.index.IndexEngine.get_loc\u001b[0;34m()\u001b[0m\n",
            "\u001b[0;32mpandas/_libs/index.pyx\u001b[0m in \u001b[0;36mpandas._libs.index.IndexEngine.get_loc\u001b[0;34m()\u001b[0m\n",
            "\u001b[0;32mpandas/_libs/hashtable_class_helper.pxi\u001b[0m in \u001b[0;36mpandas._libs.hashtable.PyObjectHashTable.get_item\u001b[0;34m()\u001b[0m\n",
            "\u001b[0;32mpandas/_libs/hashtable_class_helper.pxi\u001b[0m in \u001b[0;36mpandas._libs.hashtable.PyObjectHashTable.get_item\u001b[0;34m()\u001b[0m\n",
            "\u001b[0;31mKeyError\u001b[0m: 'Close'"
          ]
        }
      ]
    },
    {
      "cell_type": "markdown",
      "metadata": {
        "id": "TU3bc7SjyvKo",
        "colab_type": "text"
      },
      "source": [
        "#### Define explanatory variables\n",
        "\n",
        "The features which we want to use to predict the Gold ETF price are the moving averages for past 3 days and 9 days. We drop the NaN values using dropna() function and store the feature variables in X.\n",
        "\n",
        "#### Define dependent variable\n",
        "Similarly, the dependent variable depends on the values of the explanatory variables. Simply put, it is the Gold ETF price which we are trying to predict. We store the Gold ETF price in y.\n"
      ]
    },
    {
      "cell_type": "code",
      "metadata": {
        "id": "3pcJv-kfy11v",
        "colab_type": "code",
        "colab": {}
      },
      "source": [
        "Df['S_3'] = Df['Close'].rolling(window=3).mean()\n",
        "Df['S_9'] = Df['Close'].rolling(window=9).mean()\n",
        "Df['y'] = Df['Close'].shift(-1)\n",
        "Df = Df.drop('Close', axis=1)\n",
        "Df = Df.dropna()"
      ],
      "execution_count": 49,
      "outputs": []
    },
    {
      "cell_type": "code",
      "metadata": {
        "id": "oJHqMh8fzn54",
        "colab_type": "code",
        "colab": {
          "base_uri": "https://localhost:8080/",
          "height": 297
        },
        "outputId": "8803b6bd-a43c-4bd8-d598-08907e37af35"
      },
      "source": [
        "sns.distplot(Df['y'])"
      ],
      "execution_count": 50,
      "outputs": [
        {
          "output_type": "execute_result",
          "data": {
            "text/plain": [
              "<matplotlib.axes._subplots.AxesSubplot at 0x7f46136ee710>"
            ]
          },
          "metadata": {
            "tags": []
          },
          "execution_count": 50
        },
        {
          "output_type": "display_data",
          "data": {
            "image/png": "[encoded data removed]",
            "text/plain": [
              "<Figure size 432x288 with 1 Axes>"
            ]
          },
          "metadata": {
            "tags": [],
            "needs_background": "light"
          }
        }
      ]
    },
    {
      "cell_type": "code",
      "metadata": {
        "id": "_P0dEajbzsJR",
        "colab_type": "code",
        "colab": {
          "base_uri": "https://localhost:8080/",
          "height": 87
        },
        "outputId": "582ad592-28ed-40fb-fbe5-70b4d770c886"
      },
      "source": [
        "Df.mean()"
      ],
      "execution_count": 51,
      "outputs": [
        {
          "output_type": "execute_result",
          "data": {
            "text/plain": [
              "S_3    0.000840\n",
              "S_9    0.000884\n",
              "y      0.000814\n",
              "dtype: float64"
            ]
          },
          "metadata": {
            "tags": []
          },
          "execution_count": 51
        }
      ]
    },
    {
      "cell_type": "code",
      "metadata": {
        "id": "oENmZcYNzsjg",
        "colab_type": "code",
        "colab": {
          "base_uri": "https://localhost:8080/",
          "height": 87
        },
        "outputId": "bb2c47ac-90df-46cd-d6d0-39ba5189525c"
      },
      "source": [
        "Df.std()"
      ],
      "execution_count": 52,
      "outputs": [
        {
          "output_type": "execute_result",
          "data": {
            "text/plain": [
              "S_3    0.005639\n",
              "S_9    0.002845\n",
              "y      0.009291\n",
              "dtype: float64"
            ]
          },
          "metadata": {
            "tags": []
          },
          "execution_count": 52
        }
      ]
    },
    {
      "cell_type": "code",
      "metadata": {
        "id": "MV-UlTTyzvQl",
        "colab_type": "code",
        "colab": {
          "base_uri": "https://localhost:8080/",
          "height": 156
        },
        "outputId": "b1dde0d8-94bf-4074-e5f8-67b2923acea9"
      },
      "source": [
        "print(Df.shape)\n",
        "print(Df.head())"
      ],
      "execution_count": 53,
      "outputs": [
        {
          "output_type": "stream",
          "text": [
            "(389, 3)\n",
            "                 S_3       S_9         y\n",
            "Date                                    \n",
            "2018-10-17  0.001616  0.002239  0.001122\n",
            "2018-10-18 -0.000230  0.002051  0.000776\n",
            "2018-10-19  0.000604  0.003374 -0.002589\n",
            "2018-10-22 -0.000230  0.003027  0.005860\n",
            "2018-10-23  0.001349  0.003402  0.002317\n"
          ],
          "name": "stdout"
        }
      ]
    },
    {
      "cell_type": "code",
      "metadata": {
        "id": "26F6faFtzysn",
        "colab_type": "code",
        "colab": {
          "base_uri": "https://localhost:8080/",
          "height": 440
        },
        "outputId": "048c169a-d8e0-4b38-e6d7-8a13ccfed01f"
      },
      "source": [
        "# Plot the closing price of GLD\n",
        "Df.plot(figsize=(10, 7))\n",
        "plt.ylabel(\"Log-Returns\")\n",
        "plt.title(\"Moving Avarage Log-Returns of Gold ETF Prices\")\n",
        "plt.show()"
      ],
      "execution_count": 64,
      "outputs": [
        {
          "output_type": "display_data",
          "data": {
            "image/png": "[encoded data removed]",
            "text/plain": [
              "<Figure size 720x504 with 1 Axes>"
            ]
          },
          "metadata": {
            "tags": [],
            "needs_background": "light"
          }
        }
      ]
    },
    {
      "cell_type": "code",
      "metadata": {
        "id": "NhGfAZ0pzyv5",
        "colab_type": "code",
        "colab": {
          "base_uri": "https://localhost:8080/",
          "height": 35
        },
        "outputId": "952aa61f-4f99-4602-ece3-85302599cac6"
      },
      "source": [
        "# Split the data into train and test dataset\n",
        "t = .8\n",
        "t = int(t*len(Df))\n",
        "print(t)"
      ],
      "execution_count": 65,
      "outputs": [
        {
          "output_type": "stream",
          "text": [
            "311\n"
          ],
          "name": "stdout"
        }
      ]
    },
    {
      "cell_type": "code",
      "metadata": {
        "id": "84hg41gXz2A1",
        "colab_type": "code",
        "colab": {}
      },
      "source": [
        "# Train dataset\n",
        "train = Df[:t]\n",
        "\n",
        "# Test dataset\n",
        "test = Df[t:]"
      ],
      "execution_count": 66,
      "outputs": []
    },
    {
      "cell_type": "code",
      "metadata": {
        "id": "SOoqyVc4z2FE",
        "colab_type": "code",
        "colab": {
          "base_uri": "https://localhost:8080/",
          "height": 295
        },
        "outputId": "6399243e-68f4-41a4-97b6-1ca4daba795c"
      },
      "source": [
        "print(train.shape)\n",
        "print(train.head())\n",
        "print(test.shape)\n",
        "print(test.head())"
      ],
      "execution_count": 67,
      "outputs": [
        {
          "output_type": "stream",
          "text": [
            "(311, 3)\n",
            "                 S_3       S_9         y\n",
            "Date                                    \n",
            "2018-10-17  0.001616  0.002239  0.001122\n",
            "2018-10-18 -0.000230  0.002051  0.000776\n",
            "2018-10-19  0.000604  0.003374 -0.002589\n",
            "2018-10-22 -0.000230  0.003027  0.005860\n",
            "2018-10-23  0.001349  0.003402  0.002317\n",
            "(78, 3)\n",
            "                 S_3       S_9         y\n",
            "Date                                    \n",
            "2020-01-14 -0.000777  0.002148  0.005817\n",
            "2020-01-15 -0.000841  0.001981 -0.001571\n",
            "2020-01-16  0.001118  0.000342  0.001844\n",
            "2020-01-17  0.002030 -0.000612  0.001091\n",
            "2020-01-21  0.000455 -0.000927  0.000341\n"
          ],
          "name": "stdout"
        }
      ]
    },
    {
      "cell_type": "markdown",
      "metadata": {
        "id": "-zxz0Vh80vi8",
        "colab_type": "text"
      },
      "source": [
        "### Model Training"
      ]
    },
    {
      "cell_type": "code",
      "metadata": {
        "id": "ewNRfQGS0xpu",
        "colab_type": "code",
        "colab": {}
      },
      "source": [
        "# LinearRegression is a machine learning library for linear regression\n",
        "from sklearn.linear_model import LinearRegression\n",
        "\n",
        "#train = pd.read_csv(r'C:\\Users\\fbozh\\OneDrive - ZHAW\\Specialization Advanced Data Science IBM\\Applied Data Science Capstone\\train.csv')\n",
        "#test = pd.read_csv(r'C:\\Users\\fbozh\\OneDrive - ZHAW\\Specialization Advanced Data Science IBM\\Applied Data Science Capstone\\test.csv')\n"
      ],
      "execution_count": 68,
      "outputs": []
    },
    {
      "cell_type": "code",
      "metadata": {
        "id": "eKFJpUnH000b",
        "colab_type": "code",
        "colab": {
          "base_uri": "https://localhost:8080/",
          "height": 277
        },
        "outputId": "b33d5387-6265-4717-8446-50d3c5b362a3"
      },
      "source": [
        "print(train.head())\n",
        "train.shape\n",
        "\n",
        "print(test.head())\n",
        "test.shape"
      ],
      "execution_count": 69,
      "outputs": [
        {
          "output_type": "stream",
          "text": [
            "                 S_3       S_9         y\n",
            "Date                                    \n",
            "2018-10-17  0.001616  0.002239  0.001122\n",
            "2018-10-18 -0.000230  0.002051  0.000776\n",
            "2018-10-19  0.000604  0.003374 -0.002589\n",
            "2018-10-22 -0.000230  0.003027  0.005860\n",
            "2018-10-23  0.001349  0.003402  0.002317\n",
            "                 S_3       S_9         y\n",
            "Date                                    \n",
            "2020-01-14 -0.000777  0.002148  0.005817\n",
            "2020-01-15 -0.000841  0.001981 -0.001571\n",
            "2020-01-16  0.001118  0.000342  0.001844\n",
            "2020-01-17  0.002030 -0.000612  0.001091\n",
            "2020-01-21  0.000455 -0.000927  0.000341\n"
          ],
          "name": "stdout"
        },
        {
          "output_type": "execute_result",
          "data": {
            "text/plain": [
              "(78, 3)"
            ]
          },
          "metadata": {
            "tags": []
          },
          "execution_count": 69
        }
      ]
    },
    {
      "cell_type": "markdown",
      "metadata": {
        "id": "79kgIPjw05IB",
        "colab_type": "text"
      },
      "source": [
        "## Create a linear regression model\n",
        "\n",
        "We will now create a linear regression model.\n",
        "\n",
        "To break it down further, regression explains the variation in a dependent variable in terms of independent variables. The dependent variable - ‘y’ is the variable that we want to predict. The independent variables - ‘x’ are the explanatory variables that we use to predict the dependent variable. The following regression equation describes that relation:\n",
        "\n",
        "$ Y = m1 * X1 + m2 * X2 + C $ \\\n",
        " Gold ETF price $= m1 * $ 3 days moving average $ + m2 * $ 15 days moving average$ + c $"
      ]
    },
    {
      "cell_type": "code",
      "metadata": {
        "id": "la-5CGMa09QB",
        "colab_type": "code",
        "colab": {
          "base_uri": "https://localhost:8080/",
          "height": 156
        },
        "outputId": "b40aff6b-7162-42ee-f4df-af1335ce5f95"
      },
      "source": [
        "x_train = train[['S_3','S_9']]\n",
        "y_train = train['y']\n",
        "print(x_train.head())\n",
        "x_train.shape"
      ],
      "execution_count": 70,
      "outputs": [
        {
          "output_type": "stream",
          "text": [
            "                 S_3       S_9\n",
            "Date                          \n",
            "2018-10-17  0.001616  0.002239\n",
            "2018-10-18 -0.000230  0.002051\n",
            "2018-10-19  0.000604  0.003374\n",
            "2018-10-22 -0.000230  0.003027\n",
            "2018-10-23  0.001349  0.003402\n"
          ],
          "name": "stdout"
        },
        {
          "output_type": "execute_result",
          "data": {
            "text/plain": [
              "(311, 2)"
            ]
          },
          "metadata": {
            "tags": []
          },
          "execution_count": 70
        }
      ]
    },
    {
      "cell_type": "code",
      "metadata": {
        "id": "UgVEeJN60_gy",
        "colab_type": "code",
        "colab": {
          "base_uri": "https://localhost:8080/",
          "height": 156
        },
        "outputId": "25818357-04d9-4043-e2d6-1c6ddc66d08d"
      },
      "source": [
        "x_test = test[['S_3','S_9']]\n",
        "y_test = test['y']\n",
        "print(x_test.head())\n",
        "x_test.shape"
      ],
      "execution_count": 71,
      "outputs": [
        {
          "output_type": "stream",
          "text": [
            "                 S_3       S_9\n",
            "Date                          \n",
            "2020-01-14 -0.000777  0.002148\n",
            "2020-01-15 -0.000841  0.001981\n",
            "2020-01-16  0.001118  0.000342\n",
            "2020-01-17  0.002030 -0.000612\n",
            "2020-01-21  0.000455 -0.000927\n"
          ],
          "name": "stdout"
        },
        {
          "output_type": "execute_result",
          "data": {
            "text/plain": [
              "(78, 2)"
            ]
          },
          "metadata": {
            "tags": []
          },
          "execution_count": 71
        }
      ]
    },
    {
      "cell_type": "code",
      "metadata": {
        "id": "8M5i3upt1BVj",
        "colab_type": "code",
        "colab": {}
      },
      "source": [
        "# Create a linear regression model\n",
        "linear = LinearRegression().fit(x_train, y_train)"
      ],
      "execution_count": 72,
      "outputs": []
    },
    {
      "cell_type": "markdown",
      "metadata": {
        "id": "8r_VrGAq1ERv",
        "colab_type": "text"
      },
      "source": [
        "#### Predict the Gold ETF prices\n",
        "\n",
        "Now, it’s time to check if the model works in the test dataset. We predict the Gold ETF prices using the linear model created using the train dataset. The predict method finds the Gold ETF price (y) for the given explanatory variable X.\n"
      ]
    },
    {
      "cell_type": "code",
      "metadata": {
        "id": "RfFNhOCY1H1y",
        "colab_type": "code",
        "colab": {
          "base_uri": "https://localhost:8080/",
          "height": 432
        },
        "outputId": "d1d41351-902b-4987-d5e1-a564cee85103"
      },
      "source": [
        "# Predicting the Gold ETF prices\n",
        "predicted_price = linear.predict(x_test)\n",
        "predicted_price = pd.DataFrame(\n",
        "    predicted_price, index=y_test.index, columns=['price'])\n",
        "predicted_price.plot(figsize=(10, 7))\n",
        "y_test.plot()\n",
        "plt.legend(['Reg:predicted_price', 'actual_price'])\n",
        "plt.ylabel(\"Gold ETF Price\")\n",
        "plt.show()"
      ],
      "execution_count": 73,
      "outputs": [
        {
          "output_type": "display_data",
          "data": {
            "image/png": "[encoded data removed]",
            "text/plain": [
              "<Figure size 720x504 with 1 Axes>"
            ]
          },
          "metadata": {
            "tags": [],
            "needs_background": "light"
          }
        }
      ]
    },
    {
      "cell_type": "markdown",
      "metadata": {
        "id": "wGGbKeC91Pfc",
        "colab_type": "text"
      },
      "source": [
        "## Create the LSTM Model\n",
        "\n",
        "After we have first built a predictive regression model, we use the same explanatory variable and the same target variable and apply them to an LSTM model and finally compare these two methods.\n"
      ]
    },
    {
      "cell_type": "code",
      "metadata": {
        "id": "_OKbEvT51W5T",
        "colab_type": "code",
        "colab": {}
      },
      "source": [
        "# import relevant packages \n",
        "from sklearn.preprocessing import MinMaxScaler\n",
        "from keras.models import Sequential\n",
        "from keras.layers import Dense\n",
        "from keras.layers import LSTM\n",
        "from keras.layers import Dropout"
      ],
      "execution_count": 74,
      "outputs": []
    },
    {
      "cell_type": "code",
      "metadata": {
        "id": "YBrryqxL1YkZ",
        "colab_type": "code",
        "colab": {
          "base_uri": "https://localhost:8080/",
          "height": 233
        },
        "outputId": "624fd729-021c-4889-f3de-0696efa6ee18"
      },
      "source": [
        "Df_lstm=pd.read_csv(r'C:\\Users\\fbozh\\OneDrive - ZHAW\\Specialization Advanced Data Science IBM\\Applied Data Science Capstone\\Gold_ETF_close_price_12_Y.csv')\n",
        "Df_lstm = Df\n",
        "Df_lstm.head()"
      ],
      "execution_count": 75,
      "outputs": [
        {
          "output_type": "execute_result",
          "data": {
            "text/html": [
              "<div>\n",
              "<style scoped>\n",
              "    .dataframe tbody tr th:only-of-type {\n",
              "        vertical-align: middle;\n",
              "    }\n",
              "\n",
              "    .dataframe tbody tr th {\n",
              "        vertical-align: top;\n",
              "    }\n",
              "\n",
              "    .dataframe thead th {\n",
              "        text-align: right;\n",
              "    }\n",
              "</style>\n",
              "<table border=\"1\" class=\"dataframe\">\n",
              "  <thead>\n",
              "    <tr style=\"text-align: right;\">\n",
              "      <th></th>\n",
              "      <th>S_3</th>\n",
              "      <th>S_9</th>\n",
              "      <th>y</th>\n",
              "    </tr>\n",
              "    <tr>\n",
              "      <th>Date</th>\n",
              "      <th></th>\n",
              "      <th></th>\n",
              "      <th></th>\n",
              "    </tr>\n",
              "  </thead>\n",
              "  <tbody>\n",
              "    <tr>\n",
              "      <th>2018-10-17</th>\n",
              "      <td>0.001616</td>\n",
              "      <td>0.002239</td>\n",
              "      <td>0.001122</td>\n",
              "    </tr>\n",
              "    <tr>\n",
              "      <th>2018-10-18</th>\n",
              "      <td>-0.000230</td>\n",
              "      <td>0.002051</td>\n",
              "      <td>0.000776</td>\n",
              "    </tr>\n",
              "    <tr>\n",
              "      <th>2018-10-19</th>\n",
              "      <td>0.000604</td>\n",
              "      <td>0.003374</td>\n",
              "      <td>-0.002589</td>\n",
              "    </tr>\n",
              "    <tr>\n",
              "      <th>2018-10-22</th>\n",
              "      <td>-0.000230</td>\n",
              "      <td>0.003027</td>\n",
              "      <td>0.005860</td>\n",
              "    </tr>\n",
              "    <tr>\n",
              "      <th>2018-10-23</th>\n",
              "      <td>0.001349</td>\n",
              "      <td>0.003402</td>\n",
              "      <td>0.002317</td>\n",
              "    </tr>\n",
              "  </tbody>\n",
              "</table>\n",
              "</div>"
            ],
            "text/plain": [
              "                 S_3       S_9         y\n",
              "Date                                    \n",
              "2018-10-17  0.001616  0.002239  0.001122\n",
              "2018-10-18 -0.000230  0.002051  0.000776\n",
              "2018-10-19  0.000604  0.003374 -0.002589\n",
              "2018-10-22 -0.000230  0.003027  0.005860\n",
              "2018-10-23  0.001349  0.003402  0.002317"
            ]
          },
          "metadata": {
            "tags": []
          },
          "execution_count": 75
        }
      ]
    },
    {
      "cell_type": "code",
      "metadata": {
        "id": "CxjYDNzR1cL3",
        "colab_type": "code",
        "colab": {
          "base_uri": "https://localhost:8080/",
          "height": 156
        },
        "outputId": "7f7176a4-ee6c-4851-8839-9a9a89f2682b"
      },
      "source": [
        "print(Df_lstm.head())\n",
        "print(Df_lstm.shape)"
      ],
      "execution_count": 77,
      "outputs": [
        {
          "output_type": "stream",
          "text": [
            "                 S_3       S_9         y\n",
            "Date                                    \n",
            "2018-10-17  0.001616  0.002239  0.001122\n",
            "2018-10-18 -0.000230  0.002051  0.000776\n",
            "2018-10-19  0.000604  0.003374 -0.002589\n",
            "2018-10-22 -0.000230  0.003027  0.005860\n",
            "2018-10-23  0.001349  0.003402  0.002317\n",
            "(389, 3)\n"
          ],
          "name": "stdout"
        }
      ]
    },
    {
      "cell_type": "markdown",
      "metadata": {
        "id": "izIdXRlO1fUS",
        "colab_type": "text"
      },
      "source": [
        "#### We are already scaling the data with the MinMax-Scaler (see next steps), so why the log returns?\n",
        "\n",
        "Log returns are symmetric compared to percentage change. $ Log(a/b)=log(b/a) $ and this (less skewness), in theory, leads to better results for most models (linear regression, neural networks). Neural networks like LSTM work better if the values are close to zero, but the difference in normalizations is usually not that big! Any returns (log or percentage) are better than raw values because prices change according to previous prices. Their absolute (raw) values have an (almost) negligible influence compared to the previous price.\n"
      ]
    },
    {
      "cell_type": "code",
      "metadata": {
        "id": "J1TxA9d41eaT",
        "colab_type": "code",
        "colab": {
          "base_uri": "https://localhost:8080/",
          "height": 208
        },
        "outputId": "cad6e791-198f-490d-cbcf-c26addf62111"
      },
      "source": [
        "# take only Close prices\n",
        "values = np.array(Df_lstm[['S_3', 'S_9', 'y']])\n",
        "print(values[:10])\n",
        "print(values.shape)"
      ],
      "execution_count": 78,
      "outputs": [
        {
          "output_type": "stream",
          "text": [
            "[[ 1.61601779e-03  2.23906378e-03  1.12206869e-03]\n",
            " [-2.29969630e-04  2.05085930e-03  7.76130485e-04]\n",
            " [ 6.03940403e-04  3.37418784e-03 -2.58935973e-03]\n",
            " [-2.30386852e-04  3.02726120e-03  5.85956273e-03]\n",
            " [ 1.34877783e-03  3.40237028e-03  2.31713701e-03]\n",
            " [ 1.86244667e-03  8.41324957e-04 -2.23120431e-03]\n",
            " [ 1.98183181e-03  1.12248758e-03  3.17361093e-03]\n",
            " [ 1.08651454e-03  7.35107581e-04 -3.94713998e-03]\n",
            " [-1.00157779e-03  4.88269763e-04 -4.39442787e-03]\n",
            " [-1.72265230e-03  9.59755129e-06 -5.62895197e-03]]\n",
            "(389, 3)\n"
          ],
          "name": "stdout"
        }
      ]
    },
    {
      "cell_type": "markdown",
      "metadata": {
        "id": "VJNOuwF71j-u",
        "colab_type": "text"
      },
      "source": [
        "#### Feature scaling\n",
        "\n",
        "The next step is to scale the returns between (0, 1) to avoid an intensive calculation. It is recommended to do normalization, especially if you are working on RNN with a sigmoid function in the output layer.\n"
      ]
    },
    {
      "cell_type": "code",
      "metadata": {
        "id": "9WV4DqZX1moh",
        "colab_type": "code",
        "colab": {}
      },
      "source": [
        "# ensure all data is float\n",
        "values = values.astype('float32')"
      ],
      "execution_count": 79,
      "outputs": []
    },
    {
      "cell_type": "code",
      "metadata": {
        "id": "lPiSWES41q-T",
        "colab_type": "code",
        "colab": {
          "base_uri": "https://localhost:8080/",
          "height": 364
        },
        "outputId": "49cd9221-afcf-45e0-a695-98ce651638ca"
      },
      "source": [
        "# normalize features\n",
        "scaler = MinMaxScaler(feature_range=(0, 1))\n",
        "scaled = scaler.fit_transform(values)\n",
        "print(scaled[0:20])"
      ],
      "execution_count": 80,
      "outputs": [
        {
          "output_type": "stream",
          "text": [
            "[[0.46661627 0.6728263  0.4748012 ]\n",
            " [0.43727058 0.6653458  0.47087434]\n",
            " [0.45052725 0.7179436  0.43267143]\n",
            " [0.43726394 0.70415443 0.5285782 ]\n",
            " [0.46236795 0.71906376 0.48836687]\n",
            " [0.47053376 0.6172709  0.436737  ]\n",
            " [0.4724316  0.62844616 0.49808902]\n",
            " [0.45819873 0.6130491  0.41725877]\n",
            " [0.4250043  0.60323817 0.41218144]\n",
            " [0.41354138 0.58421254 0.3981679 ]\n",
            " [0.36689654 0.55439806 0.607031  ]\n",
            " [0.45548534 0.6073703  0.464011  ]\n",
            " [0.47968024 0.6195631  0.4347844 ]\n",
            " [0.49677342 0.58307225 0.4298283 ]\n",
            " [0.41405228 0.5602976  0.46108574]\n",
            " [0.4126867  0.5697706  0.43758   ]\n",
            " [0.41399175 0.5462293  0.3338884 ]\n",
            " [0.36920542 0.51379377 0.3804638 ]\n",
            " [0.3315698  0.50145394 0.4660577 ]\n",
            " [0.34486365 0.52786666 0.5555246 ]]\n"
          ],
          "name": "stdout"
        }
      ]
    },
    {
      "cell_type": "code",
      "metadata": {
        "id": "nXh5LV7h1shl",
        "colab_type": "code",
        "colab": {}
      },
      "source": [
        "# Split the data into train and test dataset (80% Train, 20% Test)\n",
        "\n",
        "# Train dataset\n",
        "train = scaled[:t]\n",
        "\n",
        "# Test dataset\n",
        "test = scaled[t:]"
      ],
      "execution_count": 82,
      "outputs": []
    },
    {
      "cell_type": "code",
      "metadata": {
        "id": "DF_ZZe7-1vij",
        "colab_type": "code",
        "colab": {}
      },
      "source": [
        "\n",
        "\n",
        "# split into input and outputs\n",
        "train_X, train_y = train[:, :-1], train[:, -1]\n",
        "test_X, test_y = test[:, :-1], test[:, -1]"
      ],
      "execution_count": 83,
      "outputs": []
    },
    {
      "cell_type": "markdown",
      "metadata": {
        "id": "Tnq6qeRT13H9",
        "colab_type": "text"
      },
      "source": [
        "#### Data reshaping"
      ]
    },
    {
      "cell_type": "code",
      "metadata": {
        "id": "yqcTU9Tr15Q4",
        "colab_type": "code",
        "colab": {
          "base_uri": "https://localhost:8080/",
          "height": 35
        },
        "outputId": "76999f50-4405-4397-d854-5c3d97fc83b0"
      },
      "source": [
        "# reshape input to be 3D [samples, timesteps, features]\n",
        "train_X = train_X.reshape((train_X.shape[0], 1, train_X.shape[1]))\n",
        "test_X = test_X.reshape((test_X.shape[0], 1, test_X.shape[1]))\n",
        "print(train_X.shape, train_y.shape, test_X.shape, test_y.shape)"
      ],
      "execution_count": 84,
      "outputs": [
        {
          "output_type": "stream",
          "text": [
            "(311, 1, 2) (311,) (78, 1, 2) (78,)\n"
          ],
          "name": "stdout"
        }
      ]
    },
    {
      "cell_type": "markdown",
      "metadata": {
        "id": "vDzuy7zI17Fm",
        "colab_type": "text"
      },
      "source": [
        "#### Model building\n",
        "\n",
        "We are building a NN regressor for continuous value prediction using LSTM. \n",
        "\n",
        "- First, initialize the model.\n",
        "- Then, add the 1st LSTM layer with the Dropout layer followed. / Note for the LSTM layer, units is the number of LSTM neurons in the layer. 50 neurons will give the model high dimensionality, enough to capture the upwards and downward trends. return_sequences is True as we need to add another LSTM layer after the current one. input_shape corresponds to the number of time stamps and the number of indicators. For dropout, 20% of 50 neurons will be ignored randomly during each iteration of training.\n",
        "- Following the above same method, add 2nd, 3rd, and 4th LSTM layer. / add 2nd lstm layer / 3rd lstm layer / add 4th lstm layer\n",
        "- Note the last LSTM layer, return_sequences is False as we will not add more LSTM layers. \n",
        "- Finally, add the output layer. The output dimension is 1 since we are predicting 1 price each time."
      ]
    },
    {
      "cell_type": "code",
      "metadata": {
        "id": "U9hbgW3P1_py",
        "colab_type": "code",
        "colab": {
          "base_uri": "https://localhost:8080/",
          "height": 468
        },
        "outputId": "7126fa71-0a5d-4c02-b026-539622412e57"
      },
      "source": [
        "regressor = Sequential()\n",
        "\n",
        "regressor.add(LSTM(units = 50, return_sequences = True, input_shape = (train_X.shape[1], train_X.shape[2])))\n",
        "regressor.add(Dropout(0.2))\n",
        "\n",
        "regressor.add(LSTM(units = 50, return_sequences = True))\n",
        "regressor.add(Dropout(0.2))\n",
        "\n",
        "regressor.add(LSTM(units = 50, return_sequences = True))\n",
        "regressor.add(Dropout(0.2))\n",
        "\n",
        "regressor.add(LSTM(units = 50, return_sequences = False))\n",
        "regressor.add(Dropout(0.2))\n",
        "\n",
        "regressor.add(Dense(units = 1))\n",
        "\n",
        "regressor.summary()"
      ],
      "execution_count": 85,
      "outputs": [
        {
          "output_type": "stream",
          "text": [
            "Model: \"sequential\"\n",
            "_________________________________________________________________\n",
            "Layer (type)                 Output Shape              Param #   \n",
            "=================================================================\n",
            "lstm (LSTM)                  (None, 1, 50)             10600     \n",
            "_________________________________________________________________\n",
            "dropout (Dropout)            (None, 1, 50)             0         \n",
            "_________________________________________________________________\n",
            "lstm_1 (LSTM)                (None, 1, 50)             20200     \n",
            "_________________________________________________________________\n",
            "dropout_1 (Dropout)          (None, 1, 50)             0         \n",
            "_________________________________________________________________\n",
            "lstm_2 (LSTM)                (None, 1, 50)             20200     \n",
            "_________________________________________________________________\n",
            "dropout_2 (Dropout)          (None, 1, 50)             0         \n",
            "_________________________________________________________________\n",
            "lstm_3 (LSTM)                (None, 50)                20200     \n",
            "_________________________________________________________________\n",
            "dropout_3 (Dropout)          (None, 50)                0         \n",
            "_________________________________________________________________\n",
            "dense (Dense)                (None, 1)                 51        \n",
            "=================================================================\n",
            "Total params: 71,251\n",
            "Trainable params: 71,251\n",
            "Non-trainable params: 0\n",
            "_________________________________________________________________\n"
          ],
          "name": "stdout"
        }
      ]
    },
    {
      "cell_type": "markdown",
      "metadata": {
        "id": "TsRBMooX2DNJ",
        "colab_type": "text"
      },
      "source": [
        "####  Model compiling\n",
        "Now we compile the RNN by choosing an SGD algorithm and a loss function. For optimizer, we use Adam, a safe choice to start with. The loss function is the mean of squared errors between actual values and predictions.\n"
      ]
    },
    {
      "cell_type": "code",
      "metadata": {
        "id": "Il1VVdfp2FHn",
        "colab_type": "code",
        "colab": {}
      },
      "source": [
        "regressor.compile(optimizer = 'adam', loss = 'mean_squared_error')"
      ],
      "execution_count": 86,
      "outputs": []
    },
    {
      "cell_type": "markdown",
      "metadata": {
        "id": "r5rQ-0pJ2KKI",
        "colab_type": "text"
      },
      "source": [
        "#### Model fitting\n",
        "RNN weights are updated every 26 observations with a batch size of 26."
      ]
    },
    {
      "cell_type": "code",
      "metadata": {
        "id": "db7eccmo2PhB",
        "colab_type": "code",
        "colab": {
          "base_uri": "https://localhost:8080/",
          "height": 1000
        },
        "outputId": "c0112c8e-77a5-43d3-b43c-d79f505cda59"
      },
      "source": [
        "regressor.fit(train_X, train_y, epochs = 50, batch_size = 10)"
      ],
      "execution_count": 89,
      "outputs": [
        {
          "output_type": "stream",
          "text": [
            "Epoch 1/50\n",
            "32/32 [==============================] - 0s 6ms/step - loss: 0.0072\n",
            "Epoch 2/50\n",
            "32/32 [==============================] - 0s 5ms/step - loss: 0.0069\n",
            "Epoch 3/50\n",
            "32/32 [==============================] - 0s 5ms/step - loss: 0.0077\n",
            "Epoch 4/50\n",
            "32/32 [==============================] - 0s 5ms/step - loss: 0.0069\n",
            "Epoch 5/50\n",
            "32/32 [==============================] - 0s 5ms/step - loss: 0.0076\n",
            "Epoch 6/50\n",
            "32/32 [==============================] - 0s 5ms/step - loss: 0.0073\n",
            "Epoch 7/50\n",
            "32/32 [==============================] - 0s 5ms/step - loss: 0.0075\n",
            "Epoch 8/50\n",
            "32/32 [==============================] - 0s 5ms/step - loss: 0.0074\n",
            "Epoch 9/50\n",
            "32/32 [==============================] - 0s 5ms/step - loss: 0.0070\n",
            "Epoch 10/50\n",
            "32/32 [==============================] - 0s 5ms/step - loss: 0.0073\n",
            "Epoch 11/50\n",
            "32/32 [==============================] - 0s 5ms/step - loss: 0.0084\n",
            "Epoch 12/50\n",
            "32/32 [==============================] - 0s 5ms/step - loss: 0.0073\n",
            "Epoch 13/50\n",
            "32/32 [==============================] - 0s 4ms/step - loss: 0.0074\n",
            "Epoch 14/50\n",
            "32/32 [==============================] - 0s 5ms/step - loss: 0.0078\n",
            "Epoch 15/50\n",
            "32/32 [==============================] - 0s 5ms/step - loss: 0.0074\n",
            "Epoch 16/50\n",
            "32/32 [==============================] - 0s 4ms/step - loss: 0.0073\n",
            "Epoch 17/50\n",
            "32/32 [==============================] - 0s 5ms/step - loss: 0.0073\n",
            "Epoch 18/50\n",
            "32/32 [==============================] - 0s 5ms/step - loss: 0.0071\n",
            "Epoch 19/50\n",
            "32/32 [==============================] - 0s 5ms/step - loss: 0.0073\n",
            "Epoch 20/50\n",
            "32/32 [==============================] - 0s 6ms/step - loss: 0.0068\n",
            "Epoch 21/50\n",
            "32/32 [==============================] - 0s 4ms/step - loss: 0.0074\n",
            "Epoch 22/50\n",
            "32/32 [==============================] - 0s 5ms/step - loss: 0.0074\n",
            "Epoch 23/50\n",
            "32/32 [==============================] - 0s 5ms/step - loss: 0.0073\n",
            "Epoch 24/50\n",
            "32/32 [==============================] - 0s 5ms/step - loss: 0.0070\n",
            "Epoch 25/50\n",
            "32/32 [==============================] - 0s 5ms/step - loss: 0.0077\n",
            "Epoch 26/50\n",
            "32/32 [==============================] - 0s 5ms/step - loss: 0.0075\n",
            "Epoch 27/50\n",
            "32/32 [==============================] - 0s 5ms/step - loss: 0.0074\n",
            "Epoch 28/50\n",
            "32/32 [==============================] - 0s 5ms/step - loss: 0.0072\n",
            "Epoch 29/50\n",
            "32/32 [==============================] - 0s 5ms/step - loss: 0.0072\n",
            "Epoch 30/50\n",
            "32/32 [==============================] - 0s 5ms/step - loss: 0.0075\n",
            "Epoch 31/50\n",
            "32/32 [==============================] - 0s 5ms/step - loss: 0.0071\n",
            "Epoch 32/50\n",
            "32/32 [==============================] - 0s 5ms/step - loss: 0.0070\n",
            "Epoch 33/50\n",
            "32/32 [==============================] - 0s 5ms/step - loss: 0.0075\n",
            "Epoch 34/50\n",
            "32/32 [==============================] - 0s 5ms/step - loss: 0.0069\n",
            "Epoch 35/50\n",
            "32/32 [==============================] - 0s 5ms/step - loss: 0.0070\n",
            "Epoch 36/50\n",
            "32/32 [==============================] - 0s 5ms/step - loss: 0.0074\n",
            "Epoch 37/50\n",
            "32/32 [==============================] - 0s 5ms/step - loss: 0.0075\n",
            "Epoch 38/50\n",
            "32/32 [==============================] - 0s 5ms/step - loss: 0.0072\n",
            "Epoch 39/50\n",
            "32/32 [==============================] - 0s 5ms/step - loss: 0.0069\n",
            "Epoch 40/50\n",
            "32/32 [==============================] - 0s 5ms/step - loss: 0.0075\n",
            "Epoch 41/50\n",
            "32/32 [==============================] - 0s 4ms/step - loss: 0.0076\n",
            "Epoch 42/50\n",
            "32/32 [==============================] - 0s 5ms/step - loss: 0.0074\n",
            "Epoch 43/50\n",
            "32/32 [==============================] - 0s 5ms/step - loss: 0.0071\n",
            "Epoch 44/50\n",
            "32/32 [==============================] - 0s 5ms/step - loss: 0.0070\n",
            "Epoch 45/50\n",
            "32/32 [==============================] - 0s 5ms/step - loss: 0.0072\n",
            "Epoch 46/50\n",
            "32/32 [==============================] - 0s 4ms/step - loss: 0.0072\n",
            "Epoch 47/50\n",
            "32/32 [==============================] - 0s 5ms/step - loss: 0.0071\n",
            "Epoch 48/50\n",
            "32/32 [==============================] - 0s 4ms/step - loss: 0.0070\n",
            "Epoch 49/50\n",
            "32/32 [==============================] - 0s 5ms/step - loss: 0.0069\n",
            "Epoch 50/50\n",
            "32/32 [==============================] - 0s 5ms/step - loss: 0.0073\n"
          ],
          "name": "stdout"
        },
        {
          "output_type": "execute_result",
          "data": {
            "text/plain": [
              "<tensorflow.python.keras.callbacks.History at 0x7f45dd5a9f60>"
            ]
          },
          "metadata": {
            "tags": []
          },
          "execution_count": 89
        }
      ]
    },
    {
      "cell_type": "markdown",
      "metadata": {
        "id": "EgKEC85p2RIl",
        "colab_type": "text"
      },
      "source": [
        " #### Model prediction"
      ]
    },
    {
      "cell_type": "code",
      "metadata": {
        "id": "zEYvZACw2T-f",
        "colab_type": "code",
        "colab": {}
      },
      "source": [
        "testPredict = regressor.predict(test_X)"
      ],
      "execution_count": 90,
      "outputs": []
    },
    {
      "cell_type": "markdown",
      "metadata": {
        "id": "_NUvEPF_2Uvf",
        "colab_type": "text"
      },
      "source": [
        "We have predicted the scaled values, so we need to reverse the prediction."
      ]
    },
    {
      "cell_type": "code",
      "metadata": {
        "id": "ORRv0n-42XOo",
        "colab_type": "code",
        "colab": {
          "base_uri": "https://localhost:8080/",
          "height": 243
        },
        "outputId": "79e5871c-a8e9-4dd7-dc91-54973657cd43"
      },
      "source": [
        "# create empty table with 3 fields\n",
        "testPredict_dataset_like = np.zeros(shape=(len(testPredict), 3) )\n",
        "\n",
        "# put the predicted values in the right field\n",
        "testPredict_dataset_like[:,0] = testPredict[:,0]\n",
        "\n",
        "# inverse transform and then select the right field\n",
        "prediction = scaler.inverse_transform(testPredict_dataset_like)[:,0]\n",
        "\n",
        "print(prediction)"
      ],
      "execution_count": 91,
      "outputs": [
        {
          "output_type": "stream",
          "text": [
            "[0.00103475 0.00104268 0.00114418 0.00120113 0.00120239 0.001164\n",
            " 0.00112056 0.00113623 0.00107529 0.00108661 0.00108765 0.00105765\n",
            " 0.00108072 0.00108711 0.0011221  0.00111372 0.00115313 0.00122548\n",
            " 0.0011645  0.00118707 0.00118128 0.0011915  0.00115485 0.00104975\n",
            " 0.00102396 0.0010311  0.00096747 0.00094037 0.00095663 0.00089516\n",
            " 0.00089974 0.0010736  0.00111744 0.00107138 0.00120488 0.00121705\n",
            " 0.00117129 0.00105878 0.00107289 0.00108179 0.00097109 0.00114154\n",
            " 0.00134609 0.00145534 0.00171526 0.00179468 0.0017287  0.00157949\n",
            " 0.00150031 0.00125531 0.00090881 0.00071834 0.00082456 0.00075888\n",
            " 0.0006447  0.00067196 0.00100352 0.00117369 0.00105889 0.00113969\n",
            " 0.00095133 0.000947   0.00076471 0.00075667 0.00080147 0.00085816\n",
            " 0.00100948 0.00099949 0.00095738 0.00105678 0.00118598 0.00118678\n",
            " 0.00113851 0.00113308 0.00108969 0.00112786 0.00106334 0.00121912]\n"
          ],
          "name": "stdout"
        }
      ]
    },
    {
      "cell_type": "code",
      "metadata": {
        "id": "reX9zUEM2aMN",
        "colab_type": "code",
        "colab": {
          "base_uri": "https://localhost:8080/",
          "height": 52
        },
        "outputId": "10c8a88b-eb04-419e-8ac8-8e7917141473"
      },
      "source": [
        "#Calculate/Get the value of RMSE\n",
        "rmse_Regression = np.sqrt(np.mean(((np.array(predicted_price)- test_y)**2)))\n",
        "print('RMSE Regression: ',rmse_Regression)\n",
        "\n",
        "#Calculate/Get the value of RMSE\n",
        "rmse_LSTM = np.sqrt(np.mean(((prediction- test_y)**2)))\n",
        "print('RMSE LSTM: ',rmse_LSTM)"
      ],
      "execution_count": 92,
      "outputs": [
        {
          "output_type": "stream",
          "text": [
            "RMSE Regression:  0.5046347757636434\n",
            "RMSE LSTM:  0.5041552948831547\n"
          ],
          "name": "stdout"
        }
      ]
    },
    {
      "cell_type": "markdown",
      "metadata": {
        "id": "Ue9PhgF72ccM",
        "colab_type": "text"
      },
      "source": [
        "#### Visualization"
      ]
    },
    {
      "cell_type": "code",
      "metadata": {
        "id": "zMrmfZFn2eEK",
        "colab_type": "code",
        "colab": {
          "base_uri": "https://localhost:8080/",
          "height": 35
        },
        "outputId": "5e62983b-9bbf-4709-e0b5-a14e35575564"
      },
      "source": [
        "#Create the data for the graph\n",
        "#Df=pd.read_csv(r'C:\\Users\\fbozh\\OneDrive - ZHAW\\Specialization Advanced Data Science IBM\\Applied Data Science Capstone\\Df.csv')\n",
        "Realprices = Df['y']\n",
        "Realprices_r = np.array(Df['y'])\n",
        "print(len(Realprices))"
      ],
      "execution_count": 94,
      "outputs": [
        {
          "output_type": "stream",
          "text": [
            "389\n"
          ],
          "name": "stdout"
        }
      ]
    },
    {
      "cell_type": "markdown",
      "metadata": {
        "id": "LGIwyTPh2f4-",
        "colab_type": "text"
      },
      "source": [
        "Get differences out of prediction to get trend"
      ]
    },
    {
      "cell_type": "code",
      "metadata": {
        "id": "-gzj8g-hI96g",
        "colab_type": "code",
        "colab": {}
      },
      "source": [
        ""
      ],
      "execution_count": null,
      "outputs": []
    },
    {
      "cell_type": "code",
      "metadata": {
        "id": "ZFubEUvz2izb",
        "colab_type": "code",
        "colab": {}
      },
      "source": [
        "s = pd.Series(np.concatenate([[0],prediction]))\n",
        "s1 = pd.DataFrame(s.diff())\n",
        "prediction = np.array(s1.dropna())"
      ],
      "execution_count": 95,
      "outputs": []
    },
    {
      "cell_type": "code",
      "metadata": {
        "id": "sG8xrMB26Qvm",
        "colab_type": "code",
        "colab": {
          "base_uri": "https://localhost:8080/",
          "height": 191
        },
        "outputId": "f7e9a167-f6f3-4523-e773-7303ce08a043"
      },
      "source": [
        "prediction[:10]"
      ],
      "execution_count": 101,
      "outputs": [
        {
          "output_type": "execute_result",
          "data": {
            "text/plain": [
              "array([[ 1.],\n",
              "       [ 1.],\n",
              "       [ 1.],\n",
              "       [ 1.],\n",
              "       [ 1.],\n",
              "       [-1.],\n",
              "       [-1.],\n",
              "       [ 1.],\n",
              "       [-1.],\n",
              "       [ 1.]])"
            ]
          },
          "metadata": {
            "tags": []
          },
          "execution_count": 101
        }
      ]
    },
    {
      "cell_type": "code",
      "metadata": {
        "id": "OPmPfHTr2kmB",
        "colab_type": "code",
        "colab": {
          "base_uri": "https://localhost:8080/",
          "height": 780
        },
        "outputId": "c690f336-190d-41e4-db02-4e3482ca429a"
      },
      "source": [
        "#get trading signals out of prediction (1: BUY, 2: SELL)\n",
        "prediction[prediction > 0] = 1 ; prediction[prediction < 0] = -1\n",
        "predicted_price[predicted_price > 0] = 1 ; predicted_price[predicted_price < 0] = -1\n",
        "\n",
        "Predictions_reg = np.append(np.ones(len(x_train)), predicted_price)\n",
        "Predictions_lstm = np.append(np.ones(len(x_train)), prediction)\n",
        "Date = np.append(Date_train,Date_test)\n",
        "\n",
        "print(Predictions_reg)\n",
        "print(Predictions_lstm)"
      ],
      "execution_count": 102,
      "outputs": [
        {
          "output_type": "stream",
          "text": [
            "[ 1.  1.  1.  1.  1.  1.  1.  1.  1.  1.  1.  1.  1.  1.  1.  1.  1.  1.\n",
            "  1.  1.  1.  1.  1.  1.  1.  1.  1.  1.  1.  1.  1.  1.  1.  1.  1.  1.\n",
            "  1.  1.  1.  1.  1.  1.  1.  1.  1.  1.  1.  1.  1.  1.  1.  1.  1.  1.\n",
            "  1.  1.  1.  1.  1.  1.  1.  1.  1.  1.  1.  1.  1.  1.  1.  1.  1.  1.\n",
            "  1.  1.  1.  1.  1.  1.  1.  1.  1.  1.  1.  1.  1.  1.  1.  1.  1.  1.\n",
            "  1.  1.  1.  1.  1.  1.  1.  1.  1.  1.  1.  1.  1.  1.  1.  1.  1.  1.\n",
            "  1.  1.  1.  1.  1.  1.  1.  1.  1.  1.  1.  1.  1.  1.  1.  1.  1.  1.\n",
            "  1.  1.  1.  1.  1.  1.  1.  1.  1.  1.  1.  1.  1.  1.  1.  1.  1.  1.\n",
            "  1.  1.  1.  1.  1.  1.  1.  1.  1.  1.  1.  1.  1.  1.  1.  1.  1.  1.\n",
            "  1.  1.  1.  1.  1.  1.  1.  1.  1.  1.  1.  1.  1.  1.  1.  1.  1.  1.\n",
            "  1.  1.  1.  1.  1.  1.  1.  1.  1.  1.  1.  1.  1.  1.  1.  1.  1.  1.\n",
            "  1.  1.  1.  1.  1.  1.  1.  1.  1.  1.  1.  1.  1.  1.  1.  1.  1.  1.\n",
            "  1.  1.  1.  1.  1.  1.  1.  1.  1.  1.  1.  1.  1.  1.  1.  1.  1.  1.\n",
            "  1.  1.  1.  1.  1.  1.  1.  1.  1.  1.  1.  1.  1.  1.  1.  1.  1.  1.\n",
            "  1.  1.  1.  1.  1.  1.  1.  1.  1.  1.  1.  1.  1.  1.  1.  1.  1.  1.\n",
            "  1.  1.  1.  1.  1.  1.  1.  1.  1.  1.  1.  1.  1.  1.  1.  1.  1.  1.\n",
            "  1.  1.  1.  1.  1.  1.  1.  1.  1.  1.  1.  1.  1.  1.  1.  1.  1.  1.\n",
            "  1.  1.  1.  1.  1.  1.  1.  1.  1.  1.  1.  1.  1.  1.  1.  1.  1.  1.\n",
            "  1.  1.  1.  1.  1.  1.  1.  1.  1.  1.  1.  1.  1. -1. -1. -1. -1. -1.\n",
            " -1.  1.  1.  1.  1.  1.  1.  1.  1. -1. -1.  1.  1.  1.  1.  1.  1.  1.\n",
            "  1. -1. -1. -1. -1. -1. -1.  1.  1.  1.  1. -1. -1. -1. -1. -1. -1. -1.\n",
            " -1. -1.  1.  1.  1.  1.  1.  1.  1.  1.  1.]\n",
            "[ 1.  1.  1.  1.  1.  1.  1.  1.  1.  1.  1.  1.  1.  1.  1.  1.  1.  1.\n",
            "  1.  1.  1.  1.  1.  1.  1.  1.  1.  1.  1.  1.  1.  1.  1.  1.  1.  1.\n",
            "  1.  1.  1.  1.  1.  1.  1.  1.  1.  1.  1.  1.  1.  1.  1.  1.  1.  1.\n",
            "  1.  1.  1.  1.  1.  1.  1.  1.  1.  1.  1.  1.  1.  1.  1.  1.  1.  1.\n",
            "  1.  1.  1.  1.  1.  1.  1.  1.  1.  1.  1.  1.  1.  1.  1.  1.  1.  1.\n",
            "  1.  1.  1.  1.  1.  1.  1.  1.  1.  1.  1.  1.  1.  1.  1.  1.  1.  1.\n",
            "  1.  1.  1.  1.  1.  1.  1.  1.  1.  1.  1.  1.  1.  1.  1.  1.  1.  1.\n",
            "  1.  1.  1.  1.  1.  1.  1.  1.  1.  1.  1.  1.  1.  1.  1.  1.  1.  1.\n",
            "  1.  1.  1.  1.  1.  1.  1.  1.  1.  1.  1.  1.  1.  1.  1.  1.  1.  1.\n",
            "  1.  1.  1.  1.  1.  1.  1.  1.  1.  1.  1.  1.  1.  1.  1.  1.  1.  1.\n",
            "  1.  1.  1.  1.  1.  1.  1.  1.  1.  1.  1.  1.  1.  1.  1.  1.  1.  1.\n",
            "  1.  1.  1.  1.  1.  1.  1.  1.  1.  1.  1.  1.  1.  1.  1.  1.  1.  1.\n",
            "  1.  1.  1.  1.  1.  1.  1.  1.  1.  1.  1.  1.  1.  1.  1.  1.  1.  1.\n",
            "  1.  1.  1.  1.  1.  1.  1.  1.  1.  1.  1.  1.  1.  1.  1.  1.  1.  1.\n",
            "  1.  1.  1.  1.  1.  1.  1.  1.  1.  1.  1.  1.  1.  1.  1.  1.  1.  1.\n",
            "  1.  1.  1.  1.  1.  1.  1.  1.  1.  1.  1.  1.  1.  1.  1.  1.  1.  1.\n",
            "  1.  1.  1.  1.  1.  1.  1.  1.  1.  1.  1.  1.  1.  1.  1.  1.  1.  1.\n",
            "  1.  1.  1.  1.  1.  1.  1.  1.  1.  1. -1. -1.  1. -1.  1.  1. -1.  1.\n",
            "  1.  1. -1.  1.  1. -1.  1. -1.  1. -1. -1. -1.  1. -1. -1.  1. -1.  1.\n",
            "  1.  1. -1.  1.  1. -1. -1.  1.  1. -1.  1.  1.  1.  1.  1. -1. -1. -1.\n",
            " -1. -1. -1.  1. -1. -1.  1.  1.  1. -1.  1. -1. -1. -1. -1.  1.  1.  1.\n",
            " -1. -1.  1.  1.  1. -1. -1. -1.  1. -1.  1.]\n"
          ],
          "name": "stdout"
        }
      ]
    },
    {
      "cell_type": "code",
      "metadata": {
        "id": "JQUiNcJN2mY-",
        "colab_type": "code",
        "colab": {}
      },
      "source": [
        "Trading_reg = np.cumsum(Predictions_reg*Realprices)\n",
        "Trading_lstm = np.cumsum(Predictions_lstm*Realprices)\n",
        "cumulative_prices = np.cumsum(Realprices)"
      ],
      "execution_count": 103,
      "outputs": []
    },
    {
      "cell_type": "code",
      "metadata": {
        "id": "ncNPfXeJ2p5N",
        "colab_type": "code",
        "colab": {
          "base_uri": "https://localhost:8080/",
          "height": 139
        },
        "outputId": "489df3df-1a09-4b68-8179-d0e633add7c0"
      },
      "source": [
        "Performance_Df = pd.DataFrame()\n",
        "Performance_Df['REG'] = Trading_reg\n",
        "Performance_Df['LSTM'] = Trading_lstm\n",
        "Performance_Df['REAL'] = cumulative_prices.values\n",
        "print(Performance_Df.head())"
      ],
      "execution_count": 105,
      "outputs": [
        {
          "output_type": "stream",
          "text": [
            "                 REG      LSTM      REAL\n",
            "Date                                    \n",
            "2018-10-17  0.001122  0.001122  0.001122\n",
            "2018-10-18  0.001898  0.001898  0.001898\n",
            "2018-10-19 -0.000691 -0.000691 -0.000691\n",
            "2018-10-22  0.005168  0.005168  0.005168\n",
            "2018-10-23  0.007486  0.007486  0.007486\n"
          ],
          "name": "stdout"
        }
      ]
    },
    {
      "cell_type": "code",
      "metadata": {
        "id": "tD-j96mS2tBN",
        "colab_type": "code",
        "colab": {
          "base_uri": "https://localhost:8080/",
          "height": 525
        },
        "outputId": "6b8a852d-de11-441e-e545-54ac6d564e07"
      },
      "source": [
        "#Visualize the data\n",
        "plt.figure(figsize=(16,8))\n",
        "plt.title('Model: ')\n",
        "plt.ylabel('Cumulative Returns (%)')\n",
        "plt.plot(Performance_Df)\n",
        "plt.legend(['Long/short: prediction_reg', 'Long/short: prediction_lstm','Long: actual_price'], loc='lower right')\n",
        "plt.xticks(rotation=45)\n",
        "plt.show()\n"
      ],
      "execution_count": 106,
      "outputs": [
        {
          "output_type": "display_data",
          "data": {
            "image/png": "[encoded data removed]",
            "text/plain": [
              "<Figure size 1152x576 with 1 Axes>"
            ]
          },
          "metadata": {
            "tags": [],
            "needs_background": "light"
          }
        }
      ]
    },
    {
      "cell_type": "markdown",
      "metadata": {
        "id": "iefAwymi2wFn",
        "colab_type": "text"
      },
      "source": [
        "\n",
        "#### Performance Analysis\n",
        "\n",
        "##### Sharpe Ratio: \n",
        "The shapre ratio is the average return earned in excess of the risk-free rate per unit of volatility or total risk. Volatility is a measure of the price fluctuations of an asset or portfolio.\n",
        "\n",
        "Formula and Calculation of Sharpe Ratio\n",
        "\n",
        "\\begin{aligned} &\\textit{SR} = \\frac{R_p - R_f}{\\sigma_p}\\\\ &\\textbf{where:}\\\\ &R_{p}=\\text{return of portfolio}\\\\ &R_{f} = \\text{risk-free rate}\\\\ &\\sigma_p = \\text{standard deviation of the portfolio's excess return}\\\\ \\end{aligned} \n"
      ]
    },
    {
      "cell_type": "code",
      "metadata": {
        "id": "vULlg0dQ2z1S",
        "colab_type": "code",
        "colab": {}
      },
      "source": [
        "r = Performance_Df[-len(y_test+1):].diff()\n",
        "sr = r.mean()/r.std() * np.sqrt(250)"
      ],
      "execution_count": 107,
      "outputs": []
    },
    {
      "cell_type": "markdown",
      "metadata": {
        "id": "jAohURmB21y-",
        "colab_type": "text"
      },
      "source": [
        "We need to annualize the Sharpe ratio, since we calculated it from daily values. There are 252 trading days in the year, so the simple way to annualize it is to multiply the Sharpe ratio by the square root of 252.\n",
        "\n",
        "$ SR_{ann} = SR* \\sqrt{252}$"
      ]
    },
    {
      "cell_type": "code",
      "metadata": {
        "id": "6wJD1yvI25GU",
        "colab_type": "code",
        "colab": {
          "base_uri": "https://localhost:8080/",
          "height": 104
        },
        "outputId": "d945cc51-90ce-4acd-cf90-0aade1d5b7ad"
      },
      "source": [
        "print('Sharpe Ratios:')\n",
        "print(round(sr,3))"
      ],
      "execution_count": 108,
      "outputs": [
        {
          "output_type": "stream",
          "text": [
            "Sharpe Ratios:\n",
            "REG     2.541\n",
            "LSTM   -2.331\n",
            "REAL    1.083\n",
            "dtype: float64\n"
          ],
          "name": "stdout"
        }
      ]
    },
    {
      "cell_type": "markdown",
      "metadata": {
        "id": "g9Xrz-K628bm",
        "colab_type": "text"
      },
      "source": [
        "##### Hit rate:\n",
        "\n",
        "How many times did we hit the right trading signal!\n",
        "\n",
        "Values above 50% (better above 53%) are needed!\n",
        "Values below 50% mean that one should rather do the opposite. So pretty bad performance!\n",
        "\n",
        "\n",
        "If the values are +/- 50%, then there is a 50/50 chance. In this case we would have the same success with the coin toss!"
      ]
    },
    {
      "cell_type": "code",
      "metadata": {
        "id": "k0Ti6sKV27Lw",
        "colab_type": "code",
        "colab": {
          "base_uri": "https://localhost:8080/",
          "height": 52
        },
        "outputId": "e5f30d1f-8c88-49a6-e662-1615b854aca7"
      },
      "source": [
        "r[r > 0] = 1 ; r[r < 0] = -1\n",
        "differ_RERE = r['REAL'] == r['REG']\n",
        "differ_RELS = r['REAL'] == r['LSTM']\n",
        "print('Hitrate REG: ', round(differ_RERE[differ_RERE == True].count()/differ_RERE.count(),4)*100, '%')\n",
        "print('Hitrate LSTM: ', round(differ_RELS[differ_RELS == True].count()/differ_RELS.count(),4)*100, '%')"
      ],
      "execution_count": 109,
      "outputs": [
        {
          "output_type": "stream",
          "text": [
            "Hitrate REG:  69.23 %\n",
            "Hitrate LSTM:  52.559999999999995 %\n"
          ],
          "name": "stdout"
        }
      ]
    },
    {
      "cell_type": "markdown",
      "metadata": {
        "id": "QyX6zMYT3DRK",
        "colab_type": "text"
      },
      "source": [
        "Seems like the predictive regression is performing a lot (+25%) better here. The LSTM model also performs well in terms of returns (see Sharpe ratios). But based on the hit rate it was just a coincidence!\n",
        "\n",
        "\n",
        "\n",
        "LSTM on its own does not seem particularly suitable in this case. It was to be honestly expected. One could try in the future whether the two complement each other e.g. as a hybrid model by taking the residuals from the linear regression model and feeding them into the LSTM as input in order to filter out any non-linear information for the trading signals and thus make the prediction even better."
      ]
    },
    {
      "cell_type": "markdown",
      "metadata": {
        "id": "zZqWIamL0Ujp",
        "colab_type": "text"
      },
      "source": [
        ""
      ]
    },
    {
      "cell_type": "code",
      "metadata": {
        "id": "0DiuGN5j2rqC",
        "colab_type": "code",
        "colab": {}
      },
      "source": [
        ""
      ],
      "execution_count": null,
      "outputs": []
    },
    {
      "cell_type": "markdown",
      "metadata": {
        "id": "YA7nicjy11AC",
        "colab_type": "text"
      },
      "source": [
        ""
      ]
    }
  ]
}